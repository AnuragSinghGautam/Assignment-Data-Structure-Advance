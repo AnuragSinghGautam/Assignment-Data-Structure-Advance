{
  "cells": [
    {
      "cell_type": "code",
      "execution_count": 5,
      "id": "ad852c04",
      "metadata": {
        "id": "ad852c04",
        "colab": {
          "base_uri": "https://localhost:8080/",
          "height": 35
        },
        "outputId": "026f1062-8985-4ba2-d576-2d7cffe8f38b"
      },
      "outputs": [
        {
          "output_type": "execute_result",
          "data": {
            "text/plain": [
              "'olleh'"
            ],
            "application/vnd.google.colaboratory.intrinsic+json": {
              "type": "string"
            }
          },
          "metadata": {},
          "execution_count": 5
        }
      ],
      "source": [
        "1. # Write a code to reverse a string\n",
        "def reverse_string(s):\n",
        "    return s[::-1]\n",
        "reverse_string(\"hello\")\n"
      ]
    },
    {
      "cell_type": "code",
      "execution_count": 6,
      "id": "f253c7e2",
      "metadata": {
        "id": "f253c7e2",
        "colab": {
          "base_uri": "https://localhost:8080/"
        },
        "outputId": "c48199da-0a5b-4be8-aabf-d4c60f7086fb"
      },
      "outputs": [
        {
          "output_type": "execute_result",
          "data": {
            "text/plain": [
              "2"
            ]
          },
          "metadata": {},
          "execution_count": 6
        }
      ],
      "source": [
        "2. #  Write a code to count the number of vowels in a string\n",
        "def count_vowels(s):\n",
        "    vowels = \"aeiouAEIOU\"\n",
        "    return sum(1 for char in s if char in vowels)\n",
        "count_vowels(\"hello\")"
      ]
    },
    {
      "cell_type": "code",
      "execution_count": 7,
      "id": "14956fd2",
      "metadata": {
        "id": "14956fd2",
        "colab": {
          "base_uri": "https://localhost:8080/"
        },
        "outputId": "71ccccb1-dd02-4a18-f947-7cc16928d452"
      },
      "outputs": [
        {
          "output_type": "execute_result",
          "data": {
            "text/plain": [
              "False"
            ]
          },
          "metadata": {},
          "execution_count": 7
        }
      ],
      "source": [
        "3. # Write a code to check if a given string is a palindrome or not\n",
        "def is_palindrome(s):\n",
        "    return s == s[::-1]\n",
        "is_palindrome(\"Hello\")"
      ]
    },
    {
      "cell_type": "code",
      "execution_count": 8,
      "id": "596966f4",
      "metadata": {
        "id": "596966f4",
        "colab": {
          "base_uri": "https://localhost:8080/"
        },
        "outputId": "f37e7635-70cf-4ba4-b6bc-9095240695de"
      },
      "outputs": [
        {
          "output_type": "execute_result",
          "data": {
            "text/plain": [
              "True"
            ]
          },
          "metadata": {},
          "execution_count": 8
        }
      ],
      "source": [
        "4.# Write a code to check if two given strings are anagrams of each other\n",
        "def are_anagrams(s1, s2):\n",
        "    return sorted(s1) == sorted(s2)\n",
        "are_anagrams(\"bored\",\"robed\")"
      ]
    },
    {
      "cell_type": "code",
      "execution_count": 10,
      "id": "9a649212",
      "metadata": {
        "id": "9a649212",
        "colab": {
          "base_uri": "https://localhost:8080/"
        },
        "outputId": "0021a7bb-07a7-4e6c-f4d5-907f003b9abe"
      },
      "outputs": [
        {
          "output_type": "stream",
          "name": "stdout",
          "text": [
            "[0, 4, 8]\n"
          ]
        }
      ],
      "source": [
        "5. # Write a code to find all occurrences of a given substring within another string\n",
        "def find_substring_occurrences(s, sub):\n",
        "    occurrences = []\n",
        "    start = 0\n",
        "    while True:\n",
        "        start = s.find(sub, start)\n",
        "        if start == -1:\n",
        "            break\n",
        "        occurrences.append(start)\n",
        "        start += len(sub)\n",
        "    return occurrences\n",
        "print(find_substring_occurrences(\"testtesttest\", \"test\"))"
      ]
    },
    {
      "cell_type": "code",
      "execution_count": 11,
      "id": "9eb9797c",
      "metadata": {
        "id": "9eb9797c",
        "colab": {
          "base_uri": "https://localhost:8080/"
        },
        "outputId": "e72148fa-8ffa-4e1c-eda4-0f80e4489cb9"
      },
      "outputs": [
        {
          "output_type": "stream",
          "name": "stdout",
          "text": [
            "a3b2c2\n"
          ]
        }
      ],
      "source": [
        "6. # Write a code to perform basic string compression using the counts of repeated characters\n",
        "def compress_string(s):\n",
        "    compressed = []\n",
        "    count = 1\n",
        "    for i in range(1, len(s)):\n",
        "        if s[i] == s[i - 1]:\n",
        "            count += 1\n",
        "        else:\n",
        "            compressed.append(s[i - 1] + str(count))\n",
        "            count = 1\n",
        "    compressed.append(s[-1] + str(count))\n",
        "    return ''.join(compressed)\n",
        "print(compress_string(\"aaabbcc\"))"
      ]
    },
    {
      "cell_type": "code",
      "execution_count": 12,
      "id": "47751d9d",
      "metadata": {
        "id": "47751d9d",
        "colab": {
          "base_uri": "https://localhost:8080/"
        },
        "outputId": "73a1e25f-8fd7-4d96-b13c-e949aa3e1516"
      },
      "outputs": [
        {
          "output_type": "stream",
          "name": "stdout",
          "text": [
            "True\n"
          ]
        }
      ],
      "source": [
        "7. # Write a code to determine if a string has all unique characters\n",
        "def has_unique_chars(s):\n",
        "    return len(set(s)) == len(s)\n",
        "print(has_unique_chars(\"abcdef\"))"
      ]
    },
    {
      "cell_type": "code",
      "execution_count": 13,
      "id": "1f6f1298",
      "metadata": {
        "id": "1f6f1298",
        "colab": {
          "base_uri": "https://localhost:8080/"
        },
        "outputId": "4ee44b3e-ed3f-4360-bf6f-c195bbf7a023"
      },
      "outputs": [
        {
          "output_type": "stream",
          "name": "stdout",
          "text": [
            "HELLO\n"
          ]
        }
      ],
      "source": [
        "8. # Write a code to convert a given string to uppercase or lowercase\n",
        "def convert_case(s, to_upper=True):\n",
        "    return s.upper() if to_upper else s.lower()\n",
        "print(convert_case(\"Hello\", to_upper=True))"
      ]
    },
    {
      "cell_type": "code",
      "execution_count": 14,
      "id": "dd8969e7",
      "metadata": {
        "id": "dd8969e7",
        "colab": {
          "base_uri": "https://localhost:8080/"
        },
        "outputId": "cfee7593-eded-46d0-bd5a-235da7d2b66b"
      },
      "outputs": [
        {
          "output_type": "stream",
          "name": "stdout",
          "text": [
            "2\n"
          ]
        }
      ],
      "source": [
        "9. # Write a code to count the number of words in a string\n",
        "def count_words(s):\n",
        "    return len(s.split())\n",
        "print(count_words(\"Hello world\"))"
      ]
    },
    {
      "cell_type": "code",
      "execution_count": 15,
      "id": "11d183fd",
      "metadata": {
        "id": "11d183fd",
        "colab": {
          "base_uri": "https://localhost:8080/"
        },
        "outputId": "ea2477f0-befc-48e4-b7ff-36e9e6686586"
      },
      "outputs": [
        {
          "output_type": "stream",
          "name": "stdout",
          "text": [
            "HelloWorld\n"
          ]
        }
      ],
      "source": [
        "10. # Write a code to concatenate two strings without using the + operator\n",
        "def concatenate_strings(s1, s2):\n",
        "    return '{}{}'.format(s1, s2)\n",
        "print(concatenate_strings(\"Hello\", \"World\"))"
      ]
    },
    {
      "cell_type": "code",
      "execution_count": 16,
      "id": "a11b1223",
      "metadata": {
        "id": "a11b1223",
        "colab": {
          "base_uri": "https://localhost:8080/"
        },
        "outputId": "8618db0a-d862-4ab8-e7fe-0ebfb550cec9"
      },
      "outputs": [
        {
          "output_type": "stream",
          "name": "stdout",
          "text": [
            "[1, 3, 4]\n"
          ]
        }
      ],
      "source": [
        "11. # Write a code to remove all occurrences of a specific element from a lis\n",
        "def remove_element(lst, elem):\n",
        "    return [x for x in lst if x != elem]\n",
        "print(remove_element([1, 2, 2, 3, 4], 2))"
      ]
    },
    {
      "cell_type": "code",
      "execution_count": 17,
      "id": "fe748a99",
      "metadata": {
        "id": "fe748a99",
        "colab": {
          "base_uri": "https://localhost:8080/"
        },
        "outputId": "d285cf29-9ece-4c51-cb34-296a9d7a662e"
      },
      "outputs": [
        {
          "output_type": "stream",
          "name": "stdout",
          "text": [
            "4\n"
          ]
        }
      ],
      "source": [
        "12. # Implement a code to find the second largest number in a given list of integers\n",
        "def second_largest(lst):\n",
        "    unique_lst = list(set(lst))\n",
        "    unique_lst.sort()\n",
        "    return unique_lst[-2] if len(unique_lst) >= 2 else None\n",
        "print(second_largest([1, 2, 3, 4, 5]))"
      ]
    },
    {
      "cell_type": "code",
      "execution_count": 19,
      "id": "5487881b",
      "metadata": {
        "id": "5487881b",
        "colab": {
          "base_uri": "https://localhost:8080/"
        },
        "outputId": "a2c12d61-b8db-44ac-e1e5-14bd9750be82"
      },
      "outputs": [
        {
          "output_type": "stream",
          "name": "stdout",
          "text": [
            "{1: 1, 2: 2, 3: 3, 4: 4}\n"
          ]
        }
      ],
      "source": [
        "13. # Create a code to count the occurrences of each element in a list and return a dictionary with elements as keys and their counts as values\n",
        "def count_elements(lst):\n",
        "    counts = {}\n",
        "    for elem in lst:\n",
        "        if elem in counts:\n",
        "            counts[elem] += 1\n",
        "        else:\n",
        "            counts[elem] = 1\n",
        "    return counts\n",
        "print(count_elements([1, 2, 2, 3, 3, 3, 4, 4, 4, 4]))"
      ]
    },
    {
      "cell_type": "code",
      "execution_count": 20,
      "id": "404d3083",
      "metadata": {
        "id": "404d3083",
        "colab": {
          "base_uri": "https://localhost:8080/"
        },
        "outputId": "613fb27d-dc9b-4768-f54a-51dd9389f877"
      },
      "outputs": [
        {
          "output_type": "stream",
          "name": "stdout",
          "text": [
            "[5, 4, 3, 2, 1]\n"
          ]
        }
      ],
      "source": [
        "14. # Write a code to reverse a list in-place without using any built-in reverse functions\n",
        "def reverse_list(lst):\n",
        "    left, right = 0, len(lst) - 1\n",
        "    while left < right:\n",
        "        lst[left], lst[right] = lst[right], lst[left]\n",
        "        left += 1\n",
        "        right -= 1\n",
        "    return lst\n",
        "print(reverse_list([1, 2, 3, 4, 5]))"
      ]
    },
    {
      "cell_type": "code",
      "execution_count": 21,
      "id": "be749d82",
      "metadata": {
        "id": "be749d82",
        "colab": {
          "base_uri": "https://localhost:8080/"
        },
        "outputId": "d4ddf53c-0de0-415b-9643-ea63cdac2dfd"
      },
      "outputs": [
        {
          "output_type": "stream",
          "name": "stdout",
          "text": [
            "[1, 2, 3, 4, 5]\n"
          ]
        }
      ],
      "source": [
        "15. # Implement a code to find and remove duplicates from a list while preserving the original order of elements\n",
        "def remove_duplicates(lst):\n",
        "    seen = set()\n",
        "    result = []\n",
        "    for item in lst:\n",
        "        if item not in seen:\n",
        "            seen.add(item)\n",
        "            result.append(item)\n",
        "    return result\n",
        "print(remove_duplicates([1, 2, 2, 3, 4, 4, 5]))"
      ]
    },
    {
      "cell_type": "code",
      "execution_count": 22,
      "id": "fccade83",
      "metadata": {
        "id": "fccade83",
        "colab": {
          "base_uri": "https://localhost:8080/"
        },
        "outputId": "08849562-0ded-49ae-834c-67d7d3ae06c0"
      },
      "outputs": [
        {
          "output_type": "stream",
          "name": "stdout",
          "text": [
            "True\n"
          ]
        }
      ],
      "source": [
        "16. # Create a code to check if a given list is sorted (either in ascending or descending order) or not\n",
        "def is_sorted(lst):\n",
        "    return lst == sorted(lst) or lst == sorted(lst, reverse=True)\n",
        "print(is_sorted([1, 2, 3, 4, 5]))"
      ]
    },
    {
      "cell_type": "code",
      "execution_count": 24,
      "id": "8f014862",
      "metadata": {
        "id": "8f014862",
        "colab": {
          "base_uri": "https://localhost:8080/"
        },
        "outputId": "5e8cee43-79d9-41d0-a894-52a336234b55"
      },
      "outputs": [
        {
          "output_type": "stream",
          "name": "stdout",
          "text": [
            "[1, 2, 3, 4, 5, 6]\n"
          ]
        }
      ],
      "source": [
        "17. # Write a code to merge two sorted lists into a single sorted list\n",
        "def merge_sorted_lists(lst1, lst2):\n",
        "    return sorted(lst1 + lst2)\n",
        "print(merge_sorted_lists([1, 3, 5], [2, 4, 6]))"
      ]
    },
    {
      "cell_type": "code",
      "execution_count": 25,
      "id": "58998ec6",
      "metadata": {
        "id": "58998ec6",
        "colab": {
          "base_uri": "https://localhost:8080/"
        },
        "outputId": "12792952-7677-44f1-a055-ff337957180c"
      },
      "outputs": [
        {
          "output_type": "stream",
          "name": "stdout",
          "text": [
            "[2, 3]\n"
          ]
        }
      ],
      "source": [
        "18. # Implement a code to find the intersection of two given lists\n",
        "def intersection(lst1, lst2):\n",
        "    return list(set(lst1) & set(lst2))\n",
        "print(intersection([1, 2, 3], [2, 3, 4]))"
      ]
    },
    {
      "cell_type": "code",
      "execution_count": 27,
      "id": "4d641214",
      "metadata": {
        "id": "4d641214",
        "colab": {
          "base_uri": "https://localhost:8080/"
        },
        "outputId": "c89fe9c2-31ea-480e-e0d8-fa07ecbfa975"
      },
      "outputs": [
        {
          "output_type": "stream",
          "name": "stdout",
          "text": [
            "[1, 2, 3, 4]\n"
          ]
        }
      ],
      "source": [
        "19. # Create a code to find the union of two lists without duplicates\n",
        "def union(lst1, lst2):\n",
        "    return list(set(lst1) | set(lst2))\n",
        "print(union([1, 2, 3], [2, 3, 4]))"
      ]
    },
    {
      "cell_type": "code",
      "execution_count": 28,
      "id": "f570a69e",
      "metadata": {
        "id": "f570a69e",
        "colab": {
          "base_uri": "https://localhost:8080/"
        },
        "outputId": "e08053f5-3ec3-4b2e-c8af-ca5c86a54528"
      },
      "outputs": [
        {
          "output_type": "stream",
          "name": "stdout",
          "text": [
            "[5, 1, 2, 4, 3]\n"
          ]
        }
      ],
      "source": [
        "20. # Write a code to shuffle a given list randomly without using any built-in shuffle functions\n",
        "import random\n",
        "\n",
        "def shuffle_list(lst):\n",
        "    for i in range(len(lst) - 1, 0, -1):\n",
        "        j = random.randint(0, i)\n",
        "        lst[i], lst[j] = lst[j], lst[i]\n",
        "    return lst\n",
        "print(shuffle_list([1, 2, 3, 4, 5]))"
      ]
    },
    {
      "cell_type": "code",
      "execution_count": 29,
      "id": "4322be82",
      "metadata": {
        "id": "4322be82",
        "colab": {
          "base_uri": "https://localhost:8080/"
        },
        "outputId": "43f385c0-5277-4704-ed72-5d8ca65ae889"
      },
      "outputs": [
        {
          "output_type": "stream",
          "name": "stdout",
          "text": [
            "(2, 3)\n"
          ]
        }
      ],
      "source": [
        "21. # Write a code that takes two tuples as input and returns a new tuple containing elements that are common to both input tuples\n",
        "def common_elements(t1, t2):\n",
        "    return tuple(set(t1) & set(t2))\n",
        "print(common_elements((1, 2, 3), (2, 3, 4)))"
      ]
    },
    {
      "cell_type": "code",
      "execution_count": 38,
      "id": "e8d34fff",
      "metadata": {
        "id": "e8d34fff"
      },
      "outputs": [],
      "source": [
        "22. # Ceate a code that prompts the user to enter two sets of integers separated by commas. Then, print the intersection of these two sets\n",
        "def sets_intersection():\n",
        "    set1 = set(map(int, input(\"Enter the first set of integers separated by commas: \").split(',')))\n",
        "    set2 = set(map(int, input(\"Enter the second set of integers separated by commas: \").split(',')))\n",
        "    print(\"Intersection:\", set1 & set2)"
      ]
    },
    {
      "cell_type": "code",
      "execution_count": 39,
      "id": "f73bb2fe",
      "metadata": {
        "id": "f73bb2fe",
        "colab": {
          "base_uri": "https://localhost:8080/"
        },
        "outputId": "6b6157e2-7e2c-41f6-f6d2-a292e5f9b620"
      },
      "outputs": [
        {
          "output_type": "stream",
          "name": "stdout",
          "text": [
            "(1, 2, 3, 4)\n"
          ]
        }
      ],
      "source": [
        "23. # Write a code to concatenate two tuples. The function should take two tuples as input and return a new tuple containing elements from both input tuples.\n",
        "def concatenate_tuples(t1, t2):\n",
        "    return t1 + t2\n",
        "print(concatenate_tuples((1, 2), (3, 4)))"
      ]
    },
    {
      "cell_type": "code",
      "execution_count": 60,
      "id": "9a7baf5d",
      "metadata": {
        "id": "9a7baf5d",
        "colab": {
          "base_uri": "https://localhost:8080/"
        },
        "outputId": "e65fd4eb-d825-4c94-8e3b-53e583221221"
      },
      "outputs": [
        {
          "output_type": "stream",
          "name": "stdout",
          "text": [
            "Enter the first set of strings separated by spaces: a b c d e\n",
            "Enter the second set of strings separated by spaces: b f g \n",
            "Set1:  {'a', 'c', 'd', 'e', 'b'}\n",
            "Set2:  {'f', 'b', 'g'}\n",
            "Elements in the first set but not in the second set: {'a', 'c', 'd', 'e'}\n"
          ]
        }
      ],
      "source": [
        "24. # Develop a code that prompts the user to input two sets of strings. Then, print the elements that are present in the first set but not in the second set.\n",
        "\n",
        "\n",
        "set1 = set(input(\"Enter the first set of strings separated by spaces: \").split())\n",
        "set2 = set(input(\"Enter the second set of strings separated by spaces: \").split())\n",
        "print(\"Set1: \",set1)\n",
        "print(\"Set2: \",set2)\n",
        "print(\"Elements in the first set but not in the second set:\", set1 - set2)\n"
      ]
    },
    {
      "cell_type": "code",
      "execution_count": 43,
      "id": "c420ff09",
      "metadata": {
        "id": "c420ff09",
        "colab": {
          "base_uri": "https://localhost:8080/"
        },
        "outputId": "aa8cb1b1-63ac-45a3-aa6f-e516ac6b7b08"
      },
      "outputs": [
        {
          "output_type": "stream",
          "name": "stdout",
          "text": [
            "(2, 3, 4, 5)\n"
          ]
        }
      ],
      "source": [
        "25. # Create a code that takes a tuple and two integers as input. The function should return a new tuple containing elements from the original tuple within the specified range of indices.\n",
        "def tuple_slice(t, start, end):\n",
        "    return t[start:end+1]\n",
        "print(tuple_slice((1, 2, 3, 4, 5), 1, 4))"
      ]
    },
    {
      "cell_type": "code",
      "execution_count": 58,
      "id": "a5cee63a",
      "metadata": {
        "id": "a5cee63a",
        "colab": {
          "base_uri": "https://localhost:8080/"
        },
        "outputId": "af32885c-4aad-400a-d782-85b50af4197a"
      },
      "outputs": [
        {
          "output_type": "stream",
          "name": "stdout",
          "text": [
            "Enter the first set of characters: abcde\n",
            "Enter the second set of characters: cdefg\n",
            "Set1: abcde\n",
            "Set2: cdefg\n",
            "Union of the two sets: {'a', 'c', 'd', 'e', 'f', 'b', 'g'}\n"
          ]
        }
      ],
      "source": [
        "26. #Write a code that prompts the user to input two sets of characters. Then, print the union of these two sets.\n",
        "\n",
        "a = input(\"Enter the first set of characters: \")\n",
        "b = input(\"Enter the second set of characters: \")\n",
        "\n",
        "# Print the input sets\n",
        "print(\"Set1:\", a)\n",
        "print(\"Set2:\", b)\n",
        "\n",
        "# Create sets from the input strings\n",
        "set1 = set(a)\n",
        "set2 = set(b)\n",
        "\n",
        "# Print the union of the two sets\n",
        "print(\"Union of the two sets:\", set1.union(set2))\n",
        "\n"
      ]
    },
    {
      "cell_type": "code",
      "execution_count": 62,
      "id": "5dfa2a04",
      "metadata": {
        "id": "5dfa2a04",
        "colab": {
          "base_uri": "https://localhost:8080/"
        },
        "outputId": "4e639279-39d6-4171-d1c9-d61ec23df5e5"
      },
      "outputs": [
        {
          "output_type": "stream",
          "name": "stdout",
          "text": [
            "(5, 1)\n"
          ]
        }
      ],
      "source": [
        "27. # Develop a code that takes a tuple of integers as input. The function should return the maximum and minimum values from the tuple using tuple unpacking.\n",
        "def max_min_tuple(t):\n",
        "    return max(t), min(t)\n",
        "print(max_min_tuple((1, 2, 3, 4, 5)))"
      ]
    },
    {
      "cell_type": "code",
      "execution_count": 65,
      "id": "24e9c05a",
      "metadata": {
        "id": "24e9c05a",
        "colab": {
          "base_uri": "https://localhost:8080/"
        },
        "outputId": "2224b100-61d4-407b-aaca-7d90bb844c4b"
      },
      "outputs": [
        {
          "output_type": "stream",
          "name": "stdout",
          "text": [
            "Union: {1, 2, 3, 4, 5, 6}\n",
            "Intersection: {3, 4}\n",
            "Difference: {1, 2}\n"
          ]
        }
      ],
      "source": [
        "28. # Create a code that defines two sets of integers. Then, print the union, intersection, and difference of these two sets.\n",
        "def set_operations():\n",
        "    set1 = {1, 2, 3, 4}\n",
        "    set2 = {3, 4, 5, 6}\n",
        "    print(\"Union:\", set1 | set2)\n",
        "    print(\"Intersection:\", set1 & set2)\n",
        "    print(\"Difference:\", set1 - set2)\n",
        "set_operations()"
      ]
    },
    {
      "cell_type": "code",
      "execution_count": 67,
      "id": "e29f695c",
      "metadata": {
        "id": "e29f695c",
        "colab": {
          "base_uri": "https://localhost:8080/"
        },
        "outputId": "961394f6-939a-4e97-bc18-5417660f3813"
      },
      "outputs": [
        {
          "output_type": "stream",
          "name": "stdout",
          "text": [
            "2\n"
          ]
        }
      ],
      "source": [
        "29. # Write a code that takes a tuple and an element as input. The function should return the count of occurrences of the given element in the tuple.\n",
        "def count_occurrences(t, elem):\n",
        "    return t.count(elem)\n",
        "print(count_occurrences((1, 2, 2, 3, 4), 2))"
      ]
    },
    {
      "cell_type": "code",
      "execution_count": 73,
      "id": "0ee2fd3b",
      "metadata": {
        "id": "0ee2fd3b",
        "colab": {
          "base_uri": "https://localhost:8080/"
        },
        "outputId": "3302fae1-928d-4cc3-db2c-27a8c7298302"
      },
      "outputs": [
        {
          "output_type": "stream",
          "name": "stdout",
          "text": [
            "Enter the first set of strings separated by spaces: apple banana\n",
            "Enter the second set of strings separated by spaces: google microsoft\n",
            "Symmetric difference of the two sets: {'microsoft', 'banana', 'google', 'apple'}\n"
          ]
        }
      ],
      "source": [
        "30. # Develop a code that prompts the user to input two sets of strings. Then, print the symmetric difference of these two sets.\n",
        "def symmetric_difference_of_sets():\n",
        "    set1 = set(input(\"Enter the first set of strings separated by spaces: \").split())\n",
        "    set2 = set(input(\"Enter the second set of strings separated by spaces: \").split())\n",
        "    c=set1.symmetric_difference(set2)\n",
        "    print(\"Symmetric difference of the two sets:\", c)\n",
        "symmetric_difference_of_sets()"
      ]
    },
    {
      "cell_type": "code",
      "execution_count": 74,
      "id": "f618b88c",
      "metadata": {
        "id": "f618b88c",
        "colab": {
          "base_uri": "https://localhost:8080/"
        },
        "outputId": "324e1dce-8b1e-4e0c-a991-0f184ed396ab"
      },
      "outputs": [
        {
          "output_type": "stream",
          "name": "stdout",
          "text": [
            "{'apple': 3, 'banana': 2, 'orange': 1}\n"
          ]
        }
      ],
      "source": [
        "31. # Write a code that takes a list of words as input and returns a dictionary where the keys are unique words and the values are the frequencies of those words in the input list.\n",
        "def word_frequencies(words):\n",
        "    freq_dict = {}\n",
        "    for word in words:\n",
        "        if word in freq_dict:\n",
        "            freq_dict[word] += 1\n",
        "        else:\n",
        "            freq_dict[word] = 1\n",
        "    return freq_dict\n",
        "print(word_frequencies([\"apple\", \"banana\", \"apple\", \"orange\", \"banana\", \"apple\"]))"
      ]
    },
    {
      "cell_type": "code",
      "execution_count": 75,
      "id": "2f0bfe98",
      "metadata": {
        "id": "2f0bfe98",
        "colab": {
          "base_uri": "https://localhost:8080/"
        },
        "outputId": "b12d6ea2-b445-4b86-b1f0-a494d0b6c803"
      },
      "outputs": [
        {
          "output_type": "stream",
          "name": "stdout",
          "text": [
            "{'a': 1, 'b': 5, 'c': 4}\n"
          ]
        }
      ],
      "source": [
        "32. # Write a code that takes two dictionaries as input and merges them into a single dictionary. If there are common keys, the values should be added together.\n",
        "def merge_dictionaries(dict1, dict2):\n",
        "    merged_dict = dict1.copy()\n",
        "    for key, value in dict2.items():\n",
        "        if key in merged_dict:\n",
        "            merged_dict[key] += value\n",
        "        else:\n",
        "            merged_dict[key] = value\n",
        "    return merged_dict\n",
        "print(merge_dictionaries({'a': 1, 'b': 2}, {'b': 3, 'c': 4}))"
      ]
    },
    {
      "cell_type": "code",
      "execution_count": 77,
      "id": "a301bfd9",
      "metadata": {
        "id": "a301bfd9",
        "colab": {
          "base_uri": "https://localhost:8080/"
        },
        "outputId": "5d7f69ff-f6ba-4ca3-c838-8052fba15096"
      },
      "outputs": [
        {
          "output_type": "stream",
          "name": "stdout",
          "text": [
            "42\n",
            "None\n"
          ]
        }
      ],
      "source": [
        "33. # Write a code to access a value in a nested dictionary. The function should take the dictionary and a list of keys as input, and return the corresponding value. If any of the keys do not exist in the dictionary, the function should return None.\n",
        "def access_nested_dict(d, keys):\n",
        "    for key in keys:\n",
        "        if isinstance(d, dict) and key in d:\n",
        "            d = d[key]\n",
        "        else:\n",
        "            return None\n",
        "    return d\n",
        "nested_dict = {'a': {'b': {'c': 42}}}\n",
        "print(access_nested_dict(nested_dict, ['a', 'b', 'c']))"
      ]
    },
    {
      "cell_type": "code",
      "execution_count": 79,
      "id": "e5f5a635",
      "metadata": {
        "id": "e5f5a635",
        "colab": {
          "base_uri": "https://localhost:8080/"
        },
        "outputId": "26e86ffd-86fa-4e6c-9bbe-78434bc32a45"
      },
      "outputs": [
        {
          "output_type": "stream",
          "name": "stdout",
          "text": [
            "{'b': 1, 'c': 2, 'a': 3}\n"
          ]
        }
      ],
      "source": [
        "34. # Write a code that takes a dictionary as input and returns a sorted version of it based on the values. You can choose whether to sort in ascending or descending order.\n",
        "def sort_dict_by_values(d, ascending=True):\n",
        "    return dict(sorted(d.items(), key=lambda item: item[1], reverse=not ascending))\n",
        "print(sort_dict_by_values({'a': 3, 'b': 1, 'c': 2}, ascending=True))"
      ]
    },
    {
      "cell_type": "code",
      "execution_count": 80,
      "id": "78203705",
      "metadata": {
        "id": "78203705",
        "colab": {
          "base_uri": "https://localhost:8080/"
        },
        "outputId": "c10e16c0-abff-40d2-dd8f-ec8b92d3f8c4"
      },
      "outputs": [
        {
          "output_type": "stream",
          "name": "stdout",
          "text": [
            "{1: ['a', 'c'], 2: ['b']}\n"
          ]
        }
      ],
      "source": [
        "35. # Write a code that inverts a dictionary, swapping keys and values. Ensure that the inverted dictionary correctly handles cases where multiple keys have the same value by storing the keys as a list in the inverted dictionary.\n",
        "def invert_dict(d):\n",
        "    inverted_dict = {}\n",
        "    for key, value in d.items():\n",
        "        if value in inverted_dict:\n",
        "            inverted_dict[value].append(key)\n",
        "        else:\n",
        "            inverted_dict[value] = [key]\n",
        "    return inverted_dict\n",
        "print(invert_dict({'a': 1, 'b': 2, 'c': 1}))"
      ]
    }
  ],
  "metadata": {
    "colab": {
      "provenance": []
    },
    "language_info": {
      "name": "python"
    },
    "kernelspec": {
      "name": "python3",
      "display_name": "Python 3"
    }
  },
  "nbformat": 4,
  "nbformat_minor": 5
}