{
  "cells": [
    {
      "cell_type": "code",
      "execution_count": null,
      "id": "ad852c04",
      "metadata": {
        "id": "ad852c04"
      },
      "outputs": [],
      "source": [
        "# Write a code to reverse a string\n",
        "def reverse_string(s):\n",
        "    return s[::-1]\n"
      ]
    },
    {
      "cell_type": "code",
      "execution_count": null,
      "id": "f253c7e2",
      "metadata": {
        "id": "f253c7e2"
      },
      "outputs": [],
      "source": [
        "#  Write a code to count the number of vowels in a string\n",
        "def count_vowels(s):\n",
        "    vowels = \"aeiouAEIOU\"\n",
        "    return sum(1 for char in s if char in vowels)\n"
      ]
    },
    {
      "cell_type": "code",
      "execution_count": null,
      "id": "14956fd2",
      "metadata": {
        "id": "14956fd2"
      },
      "outputs": [],
      "source": [
        "# Write a code to check if a given string is a palindrome or not\n",
        "def is_palindrome(s):\n",
        "    return s == s[::-1]\n"
      ]
    },
    {
      "cell_type": "code",
      "execution_count": null,
      "id": "596966f4",
      "metadata": {
        "id": "596966f4"
      },
      "outputs": [],
      "source": [
        "# Write a code to check if two given strings are anagrams of each other\n",
        "def are_anagrams(s1, s2):\n",
        "    return sorted(s1) == sorted(s2)\n"
      ]
    },
    {
      "cell_type": "code",
      "execution_count": null,
      "id": "9a649212",
      "metadata": {
        "id": "9a649212"
      },
      "outputs": [],
      "source": [
        "# Write a code to find all occurrences of a given substring within another string\n",
        "def find_substring_occurrences(s, sub):\n",
        "    occurrences = []\n",
        "    start = 0\n",
        "    while True:\n",
        "        start = s.find(sub, start)\n",
        "        if start == -1:\n",
        "            break\n",
        "        occurrences.append(start)\n",
        "        start += len(sub)\n",
        "    return occurrences\n"
      ]
    },
    {
      "cell_type": "code",
      "execution_count": null,
      "id": "9eb9797c",
      "metadata": {
        "id": "9eb9797c"
      },
      "outputs": [],
      "source": [
        "# Write a code to perform basic string compression using the counts of repeated characters\n",
        "def compress_string(s):\n",
        "    compressed = []\n",
        "    count = 1\n",
        "    for i in range(1, len(s)):\n",
        "        if s[i] == s[i - 1]:\n",
        "            count += 1\n",
        "        else:\n",
        "            compressed.append(s[i - 1] + str(count))\n",
        "            count = 1\n",
        "    compressed.append(s[-1] + str(count))\n",
        "    return ''.join(compressed)\n"
      ]
    },
    {
      "cell_type": "code",
      "execution_count": null,
      "id": "47751d9d",
      "metadata": {
        "id": "47751d9d"
      },
      "outputs": [],
      "source": [
        "# Write a code to determine if a string has all unique characters\n",
        "def has_unique_chars(s):\n",
        "    return len(set(s)) == len(s)\n"
      ]
    },
    {
      "cell_type": "code",
      "execution_count": null,
      "id": "1f6f1298",
      "metadata": {
        "id": "1f6f1298"
      },
      "outputs": [],
      "source": [
        "# Write a code to convert a given string to uppercase or lowercase\n",
        "def convert_case(s, to_upper=True):\n",
        "    return s.upper() if to_upper else s.lower()\n"
      ]
    },
    {
      "cell_type": "code",
      "execution_count": null,
      "id": "dd8969e7",
      "metadata": {
        "id": "dd8969e7"
      },
      "outputs": [],
      "source": [
        "# Write a code to count the number of words in a string\n",
        "def count_words(s):\n",
        "    return len(s.split())\n"
      ]
    },
    {
      "cell_type": "code",
      "execution_count": null,
      "id": "11d183fd",
      "metadata": {
        "id": "11d183fd"
      },
      "outputs": [],
      "source": [
        "# Write a code to concatenate two strings without using the + operator\n",
        "def concatenate_strings(s1, s2):\n",
        "    return '{}{}'.format(s1, s2)\n"
      ]
    },
    {
      "cell_type": "code",
      "execution_count": null,
      "id": "a11b1223",
      "metadata": {
        "id": "a11b1223"
      },
      "outputs": [],
      "source": [
        "# Write a code to remove all occurrences of a specific element from a lis\n",
        "def remove_element(lst, elem):\n",
        "    return [x for x in lst if x != elem]\n"
      ]
    },
    {
      "cell_type": "code",
      "execution_count": null,
      "id": "fe748a99",
      "metadata": {
        "id": "fe748a99"
      },
      "outputs": [],
      "source": [
        "# Implement a code to find the second largest number in a given list of integers\n",
        "def second_largest(lst):\n",
        "    unique_lst = list(set(lst))\n",
        "    unique_lst.sort()\n",
        "    return unique_lst[-2] if len(unique_lst) >= 2 else None\n"
      ]
    },
    {
      "cell_type": "code",
      "execution_count": null,
      "id": "5487881b",
      "metadata": {
        "id": "5487881b"
      },
      "outputs": [],
      "source": [
        "# Create a code to count the occurrences of each element in a list and return a dictionary with elements as keys and their counts as values\n",
        "def count_elements(lst):\n",
        "    counts = {}\n",
        "    for elem in lst:\n",
        "        if elem in counts:\n",
        "            counts[elem] += 1\n",
        "        else:\n",
        "            counts[elem] = 1\n",
        "    return counts\n"
      ]
    },
    {
      "cell_type": "code",
      "execution_count": null,
      "id": "404d3083",
      "metadata": {
        "id": "404d3083"
      },
      "outputs": [],
      "source": [
        "# Write a code to reverse a list in-place without using any built-in reverse functions\n",
        "def reverse_list(lst):\n",
        "    left, right = 0, len(lst) - 1\n",
        "    while left < right:\n",
        "        lst[left], lst[right] = lst[right], lst[left]\n",
        "        left += 1\n",
        "        right -= 1\n",
        "    return lst\n"
      ]
    },
    {
      "cell_type": "code",
      "execution_count": null,
      "id": "be749d82",
      "metadata": {
        "id": "be749d82"
      },
      "outputs": [],
      "source": [
        "# Implement a code to find and remove duplicates from a list while preserving the original order of elements\n",
        "def remove_duplicates(lst):\n",
        "    seen = set()\n",
        "    result = []\n",
        "    for item in lst:\n",
        "        if item not in seen:\n",
        "            seen.add(item)\n",
        "            result.append(item)\n",
        "    return result\n"
      ]
    },
    {
      "cell_type": "code",
      "execution_count": null,
      "id": "fccade83",
      "metadata": {
        "id": "fccade83"
      },
      "outputs": [],
      "source": [
        "# Create a code to check if a given list is sorted (either in ascending or descending order) or not\n",
        "def is_sorted(lst):\n",
        "    return lst == sorted(lst) or lst == sorted(lst, reverse=True)\n"
      ]
    },
    {
      "cell_type": "code",
      "execution_count": null,
      "id": "8f014862",
      "metadata": {
        "id": "8f014862"
      },
      "outputs": [],
      "source": [
        "# Write a code to merge two sorted lists into a single sorted list\n",
        "def merge_sorted_lists(lst1, lst2):\n",
        "    return sorted(lst1 + lst2)\n"
      ]
    },
    {
      "cell_type": "code",
      "execution_count": null,
      "id": "58998ec6",
      "metadata": {
        "id": "58998ec6"
      },
      "outputs": [],
      "source": [
        "# Implement a code to find the intersection of two given lists\n",
        "def intersection(lst1, lst2):\n",
        "    return list(set(lst1) & set(lst2))\n"
      ]
    },
    {
      "cell_type": "code",
      "execution_count": null,
      "id": "4d641214",
      "metadata": {
        "id": "4d641214"
      },
      "outputs": [],
      "source": [
        "# Create a code to find the union of two lists without duplicates\n",
        "def union(lst1, lst2):\n",
        "    return list(set(lst1) | set(lst2))\n"
      ]
    },
    {
      "cell_type": "code",
      "execution_count": null,
      "id": "f570a69e",
      "metadata": {
        "id": "f570a69e"
      },
      "outputs": [],
      "source": [
        "# Write a code to shuffle a given list randomly without using any built-in shuffle functions\n",
        "import random\n",
        "\n",
        "def shuffle_list(lst):\n",
        "    for i in range(len(lst) - 1, 0, -1):\n",
        "        j = random.randint(0, i)\n",
        "        lst[i], lst[j] = lst[j], lst[i]\n",
        "    return lst\n"
      ]
    },
    {
      "cell_type": "code",
      "execution_count": null,
      "id": "4322be82",
      "metadata": {
        "id": "4322be82"
      },
      "outputs": [],
      "source": [
        "# Write a code that takes two tuples as input and returns a new tuple containing elements that are common to both input tuples\n",
        "def common_elements(t1, t2):\n",
        "    return tuple(set(t1) & set(t2))\n"
      ]
    },
    {
      "cell_type": "code",
      "execution_count": null,
      "id": "e8d34fff",
      "metadata": {
        "id": "e8d34fff"
      },
      "outputs": [],
      "source": [
        "# Ceate a code that prompts the user to enter two sets of integers separated by commas. Then, print the intersection of these two sets\n",
        "def sets_intersection():\n",
        "    set1 = set(map(int, input(\"Enter the first set of integers separated by commas: \").split(',')))\n",
        "    set2 = set(map(int, input(\"Enter the second set of integers separated by commas: \").split(',')))\n",
        "    print(\"Intersection:\", set1 & set2)\n"
      ]
    },
    {
      "cell_type": "code",
      "execution_count": null,
      "id": "f73bb2fe",
      "metadata": {
        "id": "f73bb2fe"
      },
      "outputs": [],
      "source": [
        "# Write a code to concatenate two tuples. The function should take two tuples as input and return a new tuple containing elements from both input tuples.\n",
        "def concatenate_tuples(t1, t2):\n",
        "    return t1 + t2\n"
      ]
    },
    {
      "cell_type": "code",
      "execution_count": null,
      "id": "9a7baf5d",
      "metadata": {
        "id": "9a7baf5d"
      },
      "outputs": [],
      "source": [
        "# Develop a code that prompts the user to input two sets of strings. Then, print the elements that are present in the first set but not in the second set.\n",
        "def difference_of_sets():\n",
        "    set1 = set(input(\"Enter the first set of strings separated by spaces: \").split())\n",
        "    set2 = set(input(\"Enter the second set of strings separated by spaces: \").split())\n",
        "    print(\"Elements in the first set but not in the second set:\", set1 - set2)\n"
      ]
    },
    {
      "cell_type": "code",
      "execution_count": null,
      "id": "c420ff09",
      "metadata": {
        "id": "c420ff09"
      },
      "outputs": [],
      "source": [
        "# Create a code that takes a tuple and two integers as input. The function should return a new tuple containing elements from the original tuple within the specified range of indices.\n",
        "def tuple_slice(t, start, end):\n",
        "    return t[start:end+1]\n"
      ]
    },
    {
      "cell_type": "code",
      "execution_count": null,
      "id": "a5cee63a",
      "metadata": {
        "id": "a5cee63a"
      },
      "outputs": [],
      "source": [
        "#Write a code that prompts the user to input two sets of characters. Then, print the union of these two sets.\n",
        "def union_of_char_sets():\n",
        "    set1 = set(input(\"Enter the first set of characters separated by spaces: \").split())\n",
        "    set2 = set(input(\"Enter the second set of characters separated by spaces: \").split())\n",
        "    print(\"Union of the two sets:\", set1 | set2)\n"
      ]
    },
    {
      "cell_type": "code",
      "execution_count": null,
      "id": "5dfa2a04",
      "metadata": {
        "id": "5dfa2a04"
      },
      "outputs": [],
      "source": [
        "# Develop a code that takes a tuple of integers as input. The function should return the maximum and minimum values from the tuple using tuple unpacking.\n",
        "def max_min_tuple(t):\n",
        "    return max(t), min(t)\n"
      ]
    },
    {
      "cell_type": "code",
      "execution_count": null,
      "id": "24e9c05a",
      "metadata": {
        "id": "24e9c05a"
      },
      "outputs": [],
      "source": [
        "# Create a code that defines two sets of integers. Then, print the union, intersection, and difference of these two sets.\n",
        "def set_operations():\n",
        "    set1 = {1, 2, 3, 4}\n",
        "    set2 = {3, 4, 5, 6}\n",
        "    print(\"Union:\", set1 | set2)\n",
        "    print(\"Intersection:\", set1 & set2)\n",
        "    print(\"Difference:\", set1 - set2)\n"
      ]
    },
    {
      "cell_type": "code",
      "execution_count": null,
      "id": "e29f695c",
      "metadata": {
        "id": "e29f695c"
      },
      "outputs": [],
      "source": [
        "# Write a code that takes a tuple and an element as input. The function should return the count of occurrences of the given element in the tuple.\n",
        "def count_occurrences(t, elem):\n",
        "    return t.count(elem)\n"
      ]
    },
    {
      "cell_type": "code",
      "execution_count": null,
      "id": "0ee2fd3b",
      "metadata": {
        "id": "0ee2fd3b"
      },
      "outputs": [],
      "source": [
        "# Develop a code that prompts the user to input two sets of strings. Then, print the symmetric difference of these two sets.\n",
        "def symmetric_difference_of_sets():\n",
        "    set1 = set(input(\"Enter the first set of strings separated by spaces: \").split())\n",
        "    set2 = set(input(\"Enter the second set of strings separated by spaces: \").split())\n",
        "    print(\"Symmetric difference of the two sets:\", set1 ^ set2)\n"
      ]
    },
    {
      "cell_type": "code",
      "execution_count": null,
      "id": "f618b88c",
      "metadata": {
        "id": "f618b88c"
      },
      "outputs": [],
      "source": [
        "# Write a code that takes a list of words as input and returns a dictionary where the keys are unique words and the values are the frequencies of those words in the input list.\n",
        "def word_frequencies(words):\n",
        "    freq_dict = {}\n",
        "    for word in words:\n",
        "        if word in freq_dict:\n",
        "            freq_dict[word] += 1\n",
        "        else:\n",
        "            freq_dict[word] = 1\n",
        "    return freq_dict\n"
      ]
    },
    {
      "cell_type": "code",
      "execution_count": null,
      "id": "2f0bfe98",
      "metadata": {
        "id": "2f0bfe98"
      },
      "outputs": [],
      "source": [
        "# Write a code that takes two dictionaries as input and merges them into a single dictionary. If there are common keys, the values should be added together.\n",
        "def merge_dictionaries(dict1, dict2):\n",
        "    merged_dict = dict1.copy()\n",
        "    for key, value in dict2.items():\n",
        "        if key in merged_dict:\n",
        "            merged_dict[key] += value\n",
        "        else:\n",
        "            merged_dict[key] = value\n",
        "    return merged_dict\n"
      ]
    },
    {
      "cell_type": "code",
      "execution_count": null,
      "id": "a301bfd9",
      "metadata": {
        "id": "a301bfd9"
      },
      "outputs": [],
      "source": [
        "# Write a code to access a value in a nested dictionary. The function should take the dictionary and a list of keys as input, and return the corresponding value. If any of the keys do not exist in the dictionary, the function should return None.\n",
        "def access_nested_dict(d, keys):\n",
        "    for key in keys:\n",
        "        if isinstance(d, dict) and key in d:\n",
        "            d = d[key]\n",
        "        else:\n",
        "            return None\n",
        "    return d\n"
      ]
    },
    {
      "cell_type": "code",
      "execution_count": null,
      "id": "e5f5a635",
      "metadata": {
        "id": "e5f5a635"
      },
      "outputs": [],
      "source": [
        "# Write a code that takes a dictionary as input and returns a sorted version of it based on the values. You can choose whether to sort in ascending or descending order.\n",
        "def sort_dict_by_values(d, ascending=True):\n",
        "    return dict(sorted(d.items(), key=lambda item: item[1], reverse=not ascending))\n"
      ]
    },
    {
      "cell_type": "code",
      "execution_count": null,
      "id": "78203705",
      "metadata": {
        "id": "78203705"
      },
      "outputs": [],
      "source": [
        "# Write a code that inverts a dictionary, swapping keys and values. Ensure that the inverted dictionary correctly handles cases where multiple keys have the same value by storing the keys as a list in the inverted dictionary.\n",
        "def invert_dict(d):\n",
        "    inverted_dict = {}\n",
        "    for key, value in d.items():\n",
        "        if value in inverted_dict:\n",
        "            inverted_dict[value].append(key)\n",
        "        else:\n",
        "            inverted_dict[value] = [key]\n",
        "    return inverted_dict\n"
      ]
    }
  ],
  "metadata": {
    "colab": {
      "provenance": []
    },
    "language_info": {
      "name": "python"
    },
    "kernelspec": {
      "name": "python3",
      "display_name": "Python 3"
    }
  },
  "nbformat": 4,
  "nbformat_minor": 5
}